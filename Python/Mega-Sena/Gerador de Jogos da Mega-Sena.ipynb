{
  "nbformat": 4,
  "nbformat_minor": 0,
  "metadata": {
    "colab": {
      "provenance": []
    },
    "kernelspec": {
      "name": "python3",
      "display_name": "Python 3"
    },
    "language_info": {
      "name": "python"
    },
    "widgets": {
      "application/vnd.jupyter.widget-state+json": {
        "43cb55e575da46e0bfde6bc70abbe577": {
          "model_module": "@jupyter-widgets/controls",
          "model_name": "HBoxModel",
          "model_module_version": "1.5.0",
          "state": {
            "_dom_classes": [],
            "_model_module": "@jupyter-widgets/controls",
            "_model_module_version": "1.5.0",
            "_model_name": "HBoxModel",
            "_view_count": null,
            "_view_module": "@jupyter-widgets/controls",
            "_view_module_version": "1.5.0",
            "_view_name": "HBoxView",
            "box_style": "",
            "children": [
              "IPY_MODEL_52b3fb6294964c30b08f0b96f84dfa6e",
              "IPY_MODEL_3262867d43544123bfb66baae72e33e2"
            ],
            "layout": "IPY_MODEL_f4fcabe4112c4b3998bf1ecfbce76f35"
          }
        },
        "52b3fb6294964c30b08f0b96f84dfa6e": {
          "model_module": "@jupyter-widgets/controls",
          "model_name": "DropdownModel",
          "model_module_version": "1.5.0",
          "state": {
            "_dom_classes": [],
            "_model_module": "@jupyter-widgets/controls",
            "_model_module_version": "1.5.0",
            "_model_name": "DropdownModel",
            "_options_labels": [
              "6",
              "7",
              "8",
              "9",
              "10",
              "11",
              "12",
              "13",
              "14",
              "15"
            ],
            "_view_count": null,
            "_view_module": "@jupyter-widgets/controls",
            "_view_module_version": "1.5.0",
            "_view_name": "DropdownView",
            "description": "Quantidade de Números: ",
            "description_tooltip": null,
            "disabled": false,
            "index": 0,
            "layout": "IPY_MODEL_2a133bc085bd45eaa1ce9beb7b1a8edf",
            "style": "IPY_MODEL_1229412bc6b544ab9473f6074b75e4a5"
          }
        },
        "3262867d43544123bfb66baae72e33e2": {
          "model_module": "@jupyter-widgets/controls",
          "model_name": "ButtonModel",
          "model_module_version": "1.5.0",
          "state": {
            "_dom_classes": [],
            "_model_module": "@jupyter-widgets/controls",
            "_model_module_version": "1.5.0",
            "_model_name": "ButtonModel",
            "_view_count": null,
            "_view_module": "@jupyter-widgets/controls",
            "_view_module_version": "1.5.0",
            "_view_name": "ButtonView",
            "button_style": "success",
            "description": "Gerar números",
            "disabled": false,
            "icon": "check",
            "layout": "IPY_MODEL_9508739f564d4bb1afb79b0e6b85acf2",
            "style": "IPY_MODEL_86177fe35719403e9857b7299e153af4",
            "tooltip": ""
          }
        },
        "f4fcabe4112c4b3998bf1ecfbce76f35": {
          "model_module": "@jupyter-widgets/base",
          "model_name": "LayoutModel",
          "model_module_version": "1.2.0",
          "state": {
            "_model_module": "@jupyter-widgets/base",
            "_model_module_version": "1.2.0",
            "_model_name": "LayoutModel",
            "_view_count": null,
            "_view_module": "@jupyter-widgets/base",
            "_view_module_version": "1.2.0",
            "_view_name": "LayoutView",
            "align_content": null,
            "align_items": null,
            "align_self": null,
            "border": null,
            "bottom": null,
            "display": null,
            "flex": null,
            "flex_flow": null,
            "grid_area": null,
            "grid_auto_columns": null,
            "grid_auto_flow": null,
            "grid_auto_rows": null,
            "grid_column": null,
            "grid_gap": null,
            "grid_row": null,
            "grid_template_areas": null,
            "grid_template_columns": null,
            "grid_template_rows": null,
            "height": null,
            "justify_content": null,
            "justify_items": null,
            "left": null,
            "margin": null,
            "max_height": null,
            "max_width": null,
            "min_height": null,
            "min_width": null,
            "object_fit": null,
            "object_position": null,
            "order": null,
            "overflow": null,
            "overflow_x": null,
            "overflow_y": null,
            "padding": null,
            "right": null,
            "top": null,
            "visibility": null,
            "width": null
          }
        },
        "2a133bc085bd45eaa1ce9beb7b1a8edf": {
          "model_module": "@jupyter-widgets/base",
          "model_name": "LayoutModel",
          "model_module_version": "1.2.0",
          "state": {
            "_model_module": "@jupyter-widgets/base",
            "_model_module_version": "1.2.0",
            "_model_name": "LayoutModel",
            "_view_count": null,
            "_view_module": "@jupyter-widgets/base",
            "_view_module_version": "1.2.0",
            "_view_name": "LayoutView",
            "align_content": null,
            "align_items": null,
            "align_self": null,
            "border": null,
            "bottom": null,
            "display": null,
            "flex": null,
            "flex_flow": null,
            "grid_area": null,
            "grid_auto_columns": null,
            "grid_auto_flow": null,
            "grid_auto_rows": null,
            "grid_column": null,
            "grid_gap": null,
            "grid_row": null,
            "grid_template_areas": null,
            "grid_template_columns": null,
            "grid_template_rows": null,
            "height": null,
            "justify_content": null,
            "justify_items": null,
            "left": null,
            "margin": null,
            "max_height": null,
            "max_width": null,
            "min_height": null,
            "min_width": null,
            "object_fit": null,
            "object_position": null,
            "order": null,
            "overflow": null,
            "overflow_x": null,
            "overflow_y": null,
            "padding": null,
            "right": null,
            "top": null,
            "visibility": null,
            "width": "max-content"
          }
        },
        "1229412bc6b544ab9473f6074b75e4a5": {
          "model_module": "@jupyter-widgets/controls",
          "model_name": "DescriptionStyleModel",
          "model_module_version": "1.5.0",
          "state": {
            "_model_module": "@jupyter-widgets/controls",
            "_model_module_version": "1.5.0",
            "_model_name": "DescriptionStyleModel",
            "_view_count": null,
            "_view_module": "@jupyter-widgets/base",
            "_view_module_version": "1.2.0",
            "_view_name": "StyleView",
            "description_width": "initial"
          }
        },
        "9508739f564d4bb1afb79b0e6b85acf2": {
          "model_module": "@jupyter-widgets/base",
          "model_name": "LayoutModel",
          "model_module_version": "1.2.0",
          "state": {
            "_model_module": "@jupyter-widgets/base",
            "_model_module_version": "1.2.0",
            "_model_name": "LayoutModel",
            "_view_count": null,
            "_view_module": "@jupyter-widgets/base",
            "_view_module_version": "1.2.0",
            "_view_name": "LayoutView",
            "align_content": null,
            "align_items": null,
            "align_self": null,
            "border": null,
            "bottom": null,
            "display": null,
            "flex": null,
            "flex_flow": null,
            "grid_area": null,
            "grid_auto_columns": null,
            "grid_auto_flow": null,
            "grid_auto_rows": null,
            "grid_column": null,
            "grid_gap": null,
            "grid_row": null,
            "grid_template_areas": null,
            "grid_template_columns": null,
            "grid_template_rows": null,
            "height": null,
            "justify_content": null,
            "justify_items": null,
            "left": null,
            "margin": null,
            "max_height": null,
            "max_width": null,
            "min_height": null,
            "min_width": null,
            "object_fit": null,
            "object_position": null,
            "order": null,
            "overflow": null,
            "overflow_x": null,
            "overflow_y": null,
            "padding": null,
            "right": null,
            "top": null,
            "visibility": null,
            "width": null
          }
        },
        "86177fe35719403e9857b7299e153af4": {
          "model_module": "@jupyter-widgets/controls",
          "model_name": "ButtonStyleModel",
          "model_module_version": "1.5.0",
          "state": {
            "_model_module": "@jupyter-widgets/controls",
            "_model_module_version": "1.5.0",
            "_model_name": "ButtonStyleModel",
            "_view_count": null,
            "_view_module": "@jupyter-widgets/base",
            "_view_module_version": "1.2.0",
            "_view_name": "StyleView",
            "button_color": null,
            "font_weight": ""
          }
        }
      }
    }
  },
  "cells": [
    {
      "cell_type": "markdown",
      "source": [
        "# **Gerador de números da Mega-Sena!**"
      ],
      "metadata": {
        "id": "Vwb1F4_EMaT6"
      }
    },
    {
      "cell_type": "markdown",
      "source": [
        "### **Esconder Código**"
      ],
      "metadata": {
        "id": "dly0GMgRMoEZ"
      }
    },
    {
      "cell_type": "code",
      "execution_count": null,
      "metadata": {
        "id": "ujNpn1GQm0b6"
      },
      "outputs": [],
      "source": [
        "# @title  { display-mode: \"form\" }\n",
        "\n",
        "from urllib.request import urlretrieve\n",
        "\n",
        "url_megasena_lib = \"https://raw.githubusercontent.com/sergiobenrocha2/s_stuff/main/Python/Mega-Sena/megasena.py\"\n",
        "filename = \"megasena.py\"\n",
        "\n",
        "urlretrieve(url_megasena_lib, filename)\n",
        "\n",
        "# with open(filename, mode='r') as file:\n",
        "#   print(file.read())"
      ]
    },
    {
      "cell_type": "code",
      "source": [
        "# @title  { display-mode: \"form\" }\n",
        "\n",
        "from megasena import mega_sena, distribution_plot\n",
        "import ipywidgets as widgets"
      ],
      "metadata": {
        "id": "006PlHzU15DY"
      },
      "execution_count": 37,
      "outputs": []
    },
    {
      "cell_type": "code",
      "source": [
        "# @title  { display-mode: \"form\" }\n",
        "\n",
        "mega_sena_out = widgets.Output()\n",
        "\n",
        "def print_mega_numbers(*args):\n",
        "  with mega_sena_out:\n",
        "    mega_sena_out.clear_output()\n",
        "    # print('Aperte o botão acima p/ gerar novos números.\\n')\n",
        "    # print(type(dropdown_qnum.value))\n",
        "    for i in range(3):\n",
        "      print(f'\\nSeu {i + 1}º jogo: {mega_sena(int(dropdown_qnum.value))}')\n",
        "\n",
        "dropdown_qnum = widgets.Dropdown(\n",
        "  options=['6', '7', '8', '9', '10', '11', '12', '13', '14', '15'],\n",
        "  value='6',\n",
        "  description='Quantidade de Números: ',\n",
        "  layout={'width': 'max-content'},  # 'initial'\n",
        "  style={'description_width': 'initial'},\n",
        "  disabled=False\n",
        ")\n",
        "\n",
        "button = widgets.Button(\n",
        "    description='Gerar números',\n",
        "    button_style='success',\n",
        "    # tooltip='',\n",
        "    icon='check',\n",
        "    disabled=False\n",
        ")\n",
        "\n",
        "button.on_click(print_mega_numbers)\n",
        "\n",
        "items = [dropdown_qnum, button]\n"
      ],
      "metadata": {
        "id": "fTWy6Q9O_S-R"
      },
      "execution_count": 38,
      "outputs": []
    },
    {
      "cell_type": "code",
      "source": [
        " # Testando a distribuição dos números aleatórios gerados\n",
        "\n",
        "distribution_plot(q_num=6, n_sorteios=100000)"
      ],
      "metadata": {
        "id": "72WqjIiE2ILF",
        "colab": {
          "base_uri": "https://localhost:8080/",
          "height": 468
        },
        "outputId": "12655a0d-2831-4d58-e842-b63bc0598a47"
      },
      "execution_count": 41,
      "outputs": [
        {
          "output_type": "display_data",
          "data": {
            "text/plain": [
              "<Figure size 1500x500 with 1 Axes>"
            ],
            "image/png": "[encoded data removed]"
          },
          "metadata": {}
        }
      ]
    },
    {
      "cell_type": "markdown",
      "source": [
        "### **Gere os números abaixo**"
      ],
      "metadata": {
        "id": "DcgALhuvMiO3"
      }
    },
    {
      "cell_type": "code",
      "source": [
        "widgets.HBox(items)"
      ],
      "metadata": {
        "id": "D-rkcL3UE5pb",
        "outputId": "11e619ea-9035-4410-98a0-5cf25653f100",
        "colab": {
          "base_uri": "https://localhost:8080/",
          "height": 49,
          "referenced_widgets": [
            "43cb55e575da46e0bfde6bc70abbe577",
            "52b3fb6294964c30b08f0b96f84dfa6e",
            "3262867d43544123bfb66baae72e33e2",
            "f4fcabe4112c4b3998bf1ecfbce76f35",
            "2a133bc085bd45eaa1ce9beb7b1a8edf",
            "1229412bc6b544ab9473f6074b75e4a5",
            "9508739f564d4bb1afb79b0e6b85acf2",
            "86177fe35719403e9857b7299e153af4"
          ]
        }
      },
      "execution_count": 42,
      "outputs": [
        {
          "output_type": "display_data",
          "data": {
            "text/plain": [
              "HBox(children=(Dropdown(description='Quantidade de Números: ', layout=Layout(width='max-content'), options=('6…"
            ],
            "application/vnd.jupyter.widget-view+json": {
              "version_major": 2,
              "version_minor": 0,
              "model_id": "43cb55e575da46e0bfde6bc70abbe577"
            }
          },
          "metadata": {}
        }
      ]
    },
    {
      "cell_type": "code",
      "source": [
        "mega_sena_out"
      ],
      "metadata": {
        "id": "y_ho6Vb87ZxL"
      },
      "execution_count": null,
      "outputs": []
    }
  ]
}
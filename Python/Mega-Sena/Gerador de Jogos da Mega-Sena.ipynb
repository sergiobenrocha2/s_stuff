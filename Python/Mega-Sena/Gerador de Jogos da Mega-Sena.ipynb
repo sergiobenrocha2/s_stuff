{
  "nbformat": 4,
  "nbformat_minor": 0,
  "metadata": {
    "colab": {
      "provenance": []
    },
    "kernelspec": {
      "name": "python3",
      "display_name": "Python 3"
    },
    "language_info": {
      "name": "python"
    },
    "widgets": {
      "application/vnd.jupyter.widget-state+json": {
        "7a303c493b6c4a3e95ca5713f0f3884e": {
          "model_module": "@jupyter-widgets/controls",
          "model_name": "HBoxModel",
          "model_module_version": "1.5.0",
          "state": {
            "_dom_classes": [],
            "_model_module": "@jupyter-widgets/controls",
            "_model_module_version": "1.5.0",
            "_model_name": "HBoxModel",
            "_view_count": null,
            "_view_module": "@jupyter-widgets/controls",
            "_view_module_version": "1.5.0",
            "_view_name": "HBoxView",
            "box_style": "",
            "children": [
              "IPY_MODEL_3badabb35e624a3681acc08447dfa3ee",
              "IPY_MODEL_18b56afcaf694195a19ce5c38ce3cf01"
            ],
            "layout": "IPY_MODEL_7390a0c24c664178abb69956d7c94c6f"
          }
        },
        "3badabb35e624a3681acc08447dfa3ee": {
          "model_module": "@jupyter-widgets/controls",
          "model_name": "DropdownModel",
          "model_module_version": "1.5.0",
          "state": {
            "_dom_classes": [],
            "_model_module": "@jupyter-widgets/controls",
            "_model_module_version": "1.5.0",
            "_model_name": "DropdownModel",
            "_options_labels": [
              "6",
              "7",
              "8",
              "9",
              "10",
              "11",
              "12",
              "13",
              "14",
              "15"
            ],
            "_view_count": null,
            "_view_module": "@jupyter-widgets/controls",
            "_view_module_version": "1.5.0",
            "_view_name": "DropdownView",
            "description": "Quantidade de Números: ",
            "description_tooltip": null,
            "disabled": false,
            "index": 0,
            "layout": "IPY_MODEL_13526491f3ed44d8ba21d158370a8ab5",
            "style": "IPY_MODEL_4d7292bf455541a5bee3676f90b3e95b"
          }
        },
        "18b56afcaf694195a19ce5c38ce3cf01": {
          "model_module": "@jupyter-widgets/controls",
          "model_name": "ButtonModel",
          "model_module_version": "1.5.0",
          "state": {
            "_dom_classes": [],
            "_model_module": "@jupyter-widgets/controls",
            "_model_module_version": "1.5.0",
            "_model_name": "ButtonModel",
            "_view_count": null,
            "_view_module": "@jupyter-widgets/controls",
            "_view_module_version": "1.5.0",
            "_view_name": "ButtonView",
            "button_style": "success",
            "description": "Gerar números",
            "disabled": false,
            "icon": "check",
            "layout": "IPY_MODEL_60cdfa64d7eb4c0a9ce053546b084cc7",
            "style": "IPY_MODEL_aa00563f0f1d4c53a2588817b0c5479e",
            "tooltip": ""
          }
        },
        "7390a0c24c664178abb69956d7c94c6f": {
          "model_module": "@jupyter-widgets/base",
          "model_name": "LayoutModel",
          "model_module_version": "1.2.0",
          "state": {
            "_model_module": "@jupyter-widgets/base",
            "_model_module_version": "1.2.0",
            "_model_name": "LayoutModel",
            "_view_count": null,
            "_view_module": "@jupyter-widgets/base",
            "_view_module_version": "1.2.0",
            "_view_name": "LayoutView",
            "align_content": null,
            "align_items": null,
            "align_self": null,
            "border": null,
            "bottom": null,
            "display": null,
            "flex": null,
            "flex_flow": null,
            "grid_area": null,
            "grid_auto_columns": null,
            "grid_auto_flow": null,
            "grid_auto_rows": null,
            "grid_column": null,
            "grid_gap": null,
            "grid_row": null,
            "grid_template_areas": null,
            "grid_template_columns": null,
            "grid_template_rows": null,
            "height": null,
            "justify_content": null,
            "justify_items": null,
            "left": null,
            "margin": null,
            "max_height": null,
            "max_width": null,
            "min_height": null,
            "min_width": null,
            "object_fit": null,
            "object_position": null,
            "order": null,
            "overflow": null,
            "overflow_x": null,
            "overflow_y": null,
            "padding": null,
            "right": null,
            "top": null,
            "visibility": null,
            "width": null
          }
        },
        "13526491f3ed44d8ba21d158370a8ab5": {
          "model_module": "@jupyter-widgets/base",
          "model_name": "LayoutModel",
          "model_module_version": "1.2.0",
          "state": {
            "_model_module": "@jupyter-widgets/base",
            "_model_module_version": "1.2.0",
            "_model_name": "LayoutModel",
            "_view_count": null,
            "_view_module": "@jupyter-widgets/base",
            "_view_module_version": "1.2.0",
            "_view_name": "LayoutView",
            "align_content": null,
            "align_items": null,
            "align_self": null,
            "border": null,
            "bottom": null,
            "display": null,
            "flex": null,
            "flex_flow": null,
            "grid_area": null,
            "grid_auto_columns": null,
            "grid_auto_flow": null,
            "grid_auto_rows": null,
            "grid_column": null,
            "grid_gap": null,
            "grid_row": null,
            "grid_template_areas": null,
            "grid_template_columns": null,
            "grid_template_rows": null,
            "height": null,
            "justify_content": null,
            "justify_items": null,
            "left": null,
            "margin": null,
            "max_height": null,
            "max_width": null,
            "min_height": null,
            "min_width": null,
            "object_fit": null,
            "object_position": null,
            "order": null,
            "overflow": null,
            "overflow_x": null,
            "overflow_y": null,
            "padding": null,
            "right": null,
            "top": null,
            "visibility": null,
            "width": "max-content"
          }
        },
        "4d7292bf455541a5bee3676f90b3e95b": {
          "model_module": "@jupyter-widgets/controls",
          "model_name": "DescriptionStyleModel",
          "model_module_version": "1.5.0",
          "state": {
            "_model_module": "@jupyter-widgets/controls",
            "_model_module_version": "1.5.0",
            "_model_name": "DescriptionStyleModel",
            "_view_count": null,
            "_view_module": "@jupyter-widgets/base",
            "_view_module_version": "1.2.0",
            "_view_name": "StyleView",
            "description_width": "initial"
          }
        },
        "60cdfa64d7eb4c0a9ce053546b084cc7": {
          "model_module": "@jupyter-widgets/base",
          "model_name": "LayoutModel",
          "model_module_version": "1.2.0",
          "state": {
            "_model_module": "@jupyter-widgets/base",
            "_model_module_version": "1.2.0",
            "_model_name": "LayoutModel",
            "_view_count": null,
            "_view_module": "@jupyter-widgets/base",
            "_view_module_version": "1.2.0",
            "_view_name": "LayoutView",
            "align_content": null,
            "align_items": null,
            "align_self": null,
            "border": null,
            "bottom": null,
            "display": null,
            "flex": null,
            "flex_flow": null,
            "grid_area": null,
            "grid_auto_columns": null,
            "grid_auto_flow": null,
            "grid_auto_rows": null,
            "grid_column": null,
            "grid_gap": null,
            "grid_row": null,
            "grid_template_areas": null,
            "grid_template_columns": null,
            "grid_template_rows": null,
            "height": null,
            "justify_content": null,
            "justify_items": null,
            "left": null,
            "margin": null,
            "max_height": null,
            "max_width": null,
            "min_height": null,
            "min_width": null,
            "object_fit": null,
            "object_position": null,
            "order": null,
            "overflow": null,
            "overflow_x": null,
            "overflow_y": null,
            "padding": null,
            "right": null,
            "top": null,
            "visibility": null,
            "width": null
          }
        },
        "aa00563f0f1d4c53a2588817b0c5479e": {
          "model_module": "@jupyter-widgets/controls",
          "model_name": "ButtonStyleModel",
          "model_module_version": "1.5.0",
          "state": {
            "_model_module": "@jupyter-widgets/controls",
            "_model_module_version": "1.5.0",
            "_model_name": "ButtonStyleModel",
            "_view_count": null,
            "_view_module": "@jupyter-widgets/base",
            "_view_module_version": "1.2.0",
            "_view_name": "StyleView",
            "button_color": null,
            "font_weight": ""
          }
        }
      }
    }
  },
  "cells": [
    {
      "cell_type": "markdown",
      "source": [
        "# **Gerador de números da Mega-Sena!**"
      ],
      "metadata": {
        "id": "Vwb1F4_EMaT6"
      }
    },
    {
      "cell_type": "markdown",
      "source": [
        "### **Esconder Código**"
      ],
      "metadata": {
        "id": "dly0GMgRMoEZ"
      }
    },
    {
      "cell_type": "code",
      "execution_count": null,
      "metadata": {
        "id": "ujNpn1GQm0b6"
      },
      "outputs": [],
      "source": [
        "# @title  { display-mode: \"form\" }\n",
        "\n",
        "from urllib.request import urlretrieve\n",
        "\n",
        "url_megasena_lib = \"https://raw.githubusercontent.com/sergiobenrocha2/s_stuff/main/Python/Mega-Sena/megasena.py\"\n",
        "filename = \"megasena.py\"\n",
        "\n",
        "urlretrieve(url_megasena_lib, filename)\n",
        "\n",
        "# with open(filename, mode='r') as file:\n",
        "#   print(file.read())"
      ]
    },
    {
      "cell_type": "code",
      "source": [
        "# @title  { display-mode: \"form\" }\n",
        "\n",
        "from megasena import mega_sena, distribution_plot\n",
        "import ipywidgets as widgets"
      ],
      "metadata": {
        "id": "006PlHzU15DY"
      },
      "execution_count": 2,
      "outputs": []
    },
    {
      "cell_type": "code",
      "source": [
        "# @title  { display-mode: \"form\" }\n",
        "\n",
        "mega_sena_out = widgets.Output()\n",
        "\n",
        "def print_mega_numbers(*args):\n",
        "  with mega_sena_out:\n",
        "    mega_sena_out.clear_output()\n",
        "    # print('Aperte o botão acima p/ gerar novos números.\\n')\n",
        "    # print(type(dropdown_qnum.value))\n",
        "    for i in range(3):\n",
        "      print(f'\\nSeu {i + 1}º jogo:  {str(mega_sena(dropdown_qnum.value))[1:-1]}')\n",
        "\n",
        "dropdown_qnum = widgets.Dropdown(\n",
        "  options = list(range(6, 15 + 1)),\n",
        "  value=6,\n",
        "  description='Quantidade de Números: ',\n",
        "  layout={'width': 'max-content'},  # 'initial'\n",
        "  style={'description_width': 'initial'},\n",
        "  disabled=False\n",
        ")\n",
        "\n",
        "button = widgets.Button(\n",
        "    description='Gerar números',\n",
        "    button_style='success',\n",
        "    # tooltip='',\n",
        "    icon='check',\n",
        "    disabled=False\n",
        ")\n",
        "\n",
        "button.on_click(print_mega_numbers)\n",
        "\n",
        "items = [dropdown_qnum, button]\n"
      ],
      "metadata": {
        "id": "fTWy6Q9O_S-R"
      },
      "execution_count": 3,
      "outputs": []
    },
    {
      "cell_type": "code",
      "source": [
        "# @title  { display-mode: \"form\" }\n",
        "\n",
        " # Testando a distribuição dos números aleatórios gerados\n",
        "\n",
        "distribution_plot(q_num=6, n_sorteios=100000)"
      ],
      "metadata": {
        "id": "72WqjIiE2ILF"
      },
      "execution_count": null,
      "outputs": []
    },
    {
      "cell_type": "markdown",
      "source": [
        "### **Gere os números abaixo**"
      ],
      "metadata": {
        "id": "DcgALhuvMiO3"
      }
    },
    {
      "cell_type": "code",
      "source": [
        "widgets.HBox(items)"
      ],
      "metadata": {
        "id": "D-rkcL3UE5pb",
        "outputId": "847442e7-82c3-4813-a9cc-438d50c49564",
        "colab": {
          "base_uri": "https://localhost:8080/",
          "height": 49,
          "referenced_widgets": [
            "7a303c493b6c4a3e95ca5713f0f3884e",
            "3badabb35e624a3681acc08447dfa3ee",
            "18b56afcaf694195a19ce5c38ce3cf01",
            "7390a0c24c664178abb69956d7c94c6f",
            "13526491f3ed44d8ba21d158370a8ab5",
            "4d7292bf455541a5bee3676f90b3e95b",
            "60cdfa64d7eb4c0a9ce053546b084cc7",
            "aa00563f0f1d4c53a2588817b0c5479e"
          ]
        }
      },
      "execution_count": 5,
      "outputs": [
        {
          "output_type": "display_data",
          "data": {
            "text/plain": [
              "HBox(children=(Dropdown(description='Quantidade de Números: ', layout=Layout(width='max-content'), options=(6,…"
            ],
            "application/vnd.jupyter.widget-view+json": {
              "version_major": 2,
              "version_minor": 0,
              "model_id": "7a303c493b6c4a3e95ca5713f0f3884e"
            }
          },
          "metadata": {}
        }
      ]
    },
    {
      "cell_type": "code",
      "source": [
        "mega_sena_out"
      ],
      "metadata": {
        "id": "y_ho6Vb87ZxL"
      },
      "execution_count": null,
      "outputs": []
    }
  ]
}
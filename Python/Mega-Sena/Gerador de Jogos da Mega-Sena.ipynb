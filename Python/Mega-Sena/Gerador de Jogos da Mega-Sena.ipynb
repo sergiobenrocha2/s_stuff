{
  "nbformat": 4,
  "nbformat_minor": 0,
  "metadata": {
    "colab": {
      "provenance": []
    },
    "kernelspec": {
      "name": "python3",
      "display_name": "Python 3"
    },
    "language_info": {
      "name": "python"
    },
    "widgets": {
      "application/vnd.jupyter.widget-state+json": {
        "15cad7d7c4d14214993f25d44f117ff4": {
          "model_module": "@jupyter-widgets/controls",
          "model_name": "HBoxModel",
          "model_module_version": "1.5.0",
          "state": {
            "_dom_classes": [],
            "_model_module": "@jupyter-widgets/controls",
            "_model_module_version": "1.5.0",
            "_model_name": "HBoxModel",
            "_view_count": null,
            "_view_module": "@jupyter-widgets/controls",
            "_view_module_version": "1.5.0",
            "_view_name": "HBoxView",
            "box_style": "",
            "children": [
              "IPY_MODEL_5643ca2740c24e4ea7530ed6532692c5",
              "IPY_MODEL_c8ef30e7d89c48f39111bd19a9427540"
            ],
            "layout": "IPY_MODEL_29d04635ad11487cb7544deeb2758638"
          }
        },
        "5643ca2740c24e4ea7530ed6532692c5": {
          "model_module": "@jupyter-widgets/controls",
          "model_name": "DropdownModel",
          "model_module_version": "1.5.0",
          "state": {
            "_dom_classes": [],
            "_model_module": "@jupyter-widgets/controls",
            "_model_module_version": "1.5.0",
            "_model_name": "DropdownModel",
            "_options_labels": [
              "6",
              "7",
              "8",
              "9",
              "10",
              "11",
              "12",
              "13",
              "14",
              "15"
            ],
            "_view_count": null,
            "_view_module": "@jupyter-widgets/controls",
            "_view_module_version": "1.5.0",
            "_view_name": "DropdownView",
            "description": "Quantidade de Números: ",
            "description_tooltip": null,
            "disabled": false,
            "index": 0,
            "layout": "IPY_MODEL_2ff3c33e2c8d402e9986ca9fa13f9674",
            "style": "IPY_MODEL_5a11081e298a46ff8b35930369f1ce8b"
          }
        },
        "c8ef30e7d89c48f39111bd19a9427540": {
          "model_module": "@jupyter-widgets/controls",
          "model_name": "ButtonModel",
          "model_module_version": "1.5.0",
          "state": {
            "_dom_classes": [],
            "_model_module": "@jupyter-widgets/controls",
            "_model_module_version": "1.5.0",
            "_model_name": "ButtonModel",
            "_view_count": null,
            "_view_module": "@jupyter-widgets/controls",
            "_view_module_version": "1.5.0",
            "_view_name": "ButtonView",
            "button_style": "success",
            "description": "Gerar números",
            "disabled": false,
            "icon": "check",
            "layout": "IPY_MODEL_4180bb5a92974f1aa73e217af3c83238",
            "style": "IPY_MODEL_92bf470d0b72410f9c55f14e82828336",
            "tooltip": ""
          }
        },
        "29d04635ad11487cb7544deeb2758638": {
          "model_module": "@jupyter-widgets/base",
          "model_name": "LayoutModel",
          "model_module_version": "1.2.0",
          "state": {
            "_model_module": "@jupyter-widgets/base",
            "_model_module_version": "1.2.0",
            "_model_name": "LayoutModel",
            "_view_count": null,
            "_view_module": "@jupyter-widgets/base",
            "_view_module_version": "1.2.0",
            "_view_name": "LayoutView",
            "align_content": null,
            "align_items": null,
            "align_self": null,
            "border": null,
            "bottom": null,
            "display": null,
            "flex": null,
            "flex_flow": null,
            "grid_area": null,
            "grid_auto_columns": null,
            "grid_auto_flow": null,
            "grid_auto_rows": null,
            "grid_column": null,
            "grid_gap": null,
            "grid_row": null,
            "grid_template_areas": null,
            "grid_template_columns": null,
            "grid_template_rows": null,
            "height": null,
            "justify_content": null,
            "justify_items": null,
            "left": null,
            "margin": null,
            "max_height": null,
            "max_width": null,
            "min_height": null,
            "min_width": null,
            "object_fit": null,
            "object_position": null,
            "order": null,
            "overflow": null,
            "overflow_x": null,
            "overflow_y": null,
            "padding": null,
            "right": null,
            "top": null,
            "visibility": null,
            "width": null
          }
        },
        "2ff3c33e2c8d402e9986ca9fa13f9674": {
          "model_module": "@jupyter-widgets/base",
          "model_name": "LayoutModel",
          "model_module_version": "1.2.0",
          "state": {
            "_model_module": "@jupyter-widgets/base",
            "_model_module_version": "1.2.0",
            "_model_name": "LayoutModel",
            "_view_count": null,
            "_view_module": "@jupyter-widgets/base",
            "_view_module_version": "1.2.0",
            "_view_name": "LayoutView",
            "align_content": null,
            "align_items": null,
            "align_self": null,
            "border": null,
            "bottom": null,
            "display": null,
            "flex": null,
            "flex_flow": null,
            "grid_area": null,
            "grid_auto_columns": null,
            "grid_auto_flow": null,
            "grid_auto_rows": null,
            "grid_column": null,
            "grid_gap": null,
            "grid_row": null,
            "grid_template_areas": null,
            "grid_template_columns": null,
            "grid_template_rows": null,
            "height": null,
            "justify_content": null,
            "justify_items": null,
            "left": null,
            "margin": null,
            "max_height": null,
            "max_width": null,
            "min_height": null,
            "min_width": null,
            "object_fit": null,
            "object_position": null,
            "order": null,
            "overflow": null,
            "overflow_x": null,
            "overflow_y": null,
            "padding": null,
            "right": null,
            "top": null,
            "visibility": null,
            "width": "max-content"
          }
        },
        "5a11081e298a46ff8b35930369f1ce8b": {
          "model_module": "@jupyter-widgets/controls",
          "model_name": "DescriptionStyleModel",
          "model_module_version": "1.5.0",
          "state": {
            "_model_module": "@jupyter-widgets/controls",
            "_model_module_version": "1.5.0",
            "_model_name": "DescriptionStyleModel",
            "_view_count": null,
            "_view_module": "@jupyter-widgets/base",
            "_view_module_version": "1.2.0",
            "_view_name": "StyleView",
            "description_width": "initial"
          }
        },
        "4180bb5a92974f1aa73e217af3c83238": {
          "model_module": "@jupyter-widgets/base",
          "model_name": "LayoutModel",
          "model_module_version": "1.2.0",
          "state": {
            "_model_module": "@jupyter-widgets/base",
            "_model_module_version": "1.2.0",
            "_model_name": "LayoutModel",
            "_view_count": null,
            "_view_module": "@jupyter-widgets/base",
            "_view_module_version": "1.2.0",
            "_view_name": "LayoutView",
            "align_content": null,
            "align_items": null,
            "align_self": null,
            "border": null,
            "bottom": null,
            "display": null,
            "flex": null,
            "flex_flow": null,
            "grid_area": null,
            "grid_auto_columns": null,
            "grid_auto_flow": null,
            "grid_auto_rows": null,
            "grid_column": null,
            "grid_gap": null,
            "grid_row": null,
            "grid_template_areas": null,
            "grid_template_columns": null,
            "grid_template_rows": null,
            "height": null,
            "justify_content": null,
            "justify_items": null,
            "left": null,
            "margin": null,
            "max_height": null,
            "max_width": null,
            "min_height": null,
            "min_width": null,
            "object_fit": null,
            "object_position": null,
            "order": null,
            "overflow": null,
            "overflow_x": null,
            "overflow_y": null,
            "padding": null,
            "right": null,
            "top": null,
            "visibility": null,
            "width": null
          }
        },
        "92bf470d0b72410f9c55f14e82828336": {
          "model_module": "@jupyter-widgets/controls",
          "model_name": "ButtonStyleModel",
          "model_module_version": "1.5.0",
          "state": {
            "_model_module": "@jupyter-widgets/controls",
            "_model_module_version": "1.5.0",
            "_model_name": "ButtonStyleModel",
            "_view_count": null,
            "_view_module": "@jupyter-widgets/base",
            "_view_module_version": "1.2.0",
            "_view_name": "StyleView",
            "button_color": null,
            "font_weight": ""
          }
        },
        "d1660a20d09f4c4da2a565d96269f38f": {
          "model_module": "@jupyter-widgets/output",
          "model_name": "OutputModel",
          "model_module_version": "1.0.0",
          "state": {
            "_dom_classes": [],
            "_model_module": "@jupyter-widgets/output",
            "_model_module_version": "1.0.0",
            "_model_name": "OutputModel",
            "_view_count": null,
            "_view_module": "@jupyter-widgets/output",
            "_view_module_version": "1.0.0",
            "_view_name": "OutputView",
            "layout": "IPY_MODEL_9db41d1ad81e4db9b4d51d8d4e230948",
            "msg_id": "",
            "outputs": [
              {
                "output_type": "stream",
                "name": "stdout",
                "text": [
                  "\n",
                  "Seu 1º jogo: [2, 15, 19, 28, 39, 50]\n",
                  "\n",
                  "Seu 2º jogo: [1, 33, 37, 43, 45, 60]\n",
                  "\n",
                  "Seu 3º jogo: [6, 7, 10, 17, 33, 52]\n"
                ]
              }
            ]
          }
        },
        "9db41d1ad81e4db9b4d51d8d4e230948": {
          "model_module": "@jupyter-widgets/base",
          "model_name": "LayoutModel",
          "model_module_version": "1.2.0",
          "state": {
            "_model_module": "@jupyter-widgets/base",
            "_model_module_version": "1.2.0",
            "_model_name": "LayoutModel",
            "_view_count": null,
            "_view_module": "@jupyter-widgets/base",
            "_view_module_version": "1.2.0",
            "_view_name": "LayoutView",
            "align_content": null,
            "align_items": null,
            "align_self": null,
            "border": null,
            "bottom": null,
            "display": null,
            "flex": null,
            "flex_flow": null,
            "grid_area": null,
            "grid_auto_columns": null,
            "grid_auto_flow": null,
            "grid_auto_rows": null,
            "grid_column": null,
            "grid_gap": null,
            "grid_row": null,
            "grid_template_areas": null,
            "grid_template_columns": null,
            "grid_template_rows": null,
            "height": null,
            "justify_content": null,
            "justify_items": null,
            "left": null,
            "margin": null,
            "max_height": null,
            "max_width": null,
            "min_height": null,
            "min_width": null,
            "object_fit": null,
            "object_position": null,
            "order": null,
            "overflow": null,
            "overflow_x": null,
            "overflow_y": null,
            "padding": null,
            "right": null,
            "top": null,
            "visibility": null,
            "width": null
          }
        }
      }
    }
  },
  "cells": [
    {
      "cell_type": "markdown",
      "source": [
        "# **Gerador de números da Mega-Sena!**"
      ],
      "metadata": {
        "id": "Vwb1F4_EMaT6"
      }
    },
    {
      "cell_type": "markdown",
      "source": [
        "### **Esconder Código**"
      ],
      "metadata": {
        "id": "dly0GMgRMoEZ"
      }
    },
    {
      "cell_type": "code",
      "execution_count": 217,
      "metadata": {
        "id": "ujNpn1GQm0b6",
        "outputId": "5db990a2-f70a-4104-c889-7e44d7194a2b",
        "colab": {
          "base_uri": "https://localhost:8080/"
        }
      },
      "outputs": [
        {
          "output_type": "execute_result",
          "data": {
            "text/plain": [
              "('megasena.py', <http.client.HTTPMessage at 0x7fd8de5bb460>)"
            ]
          },
          "metadata": {},
          "execution_count": 217
        }
      ],
      "source": [
        "from urllib.request import urlretrieve\n",
        "\n",
        "url_megasena_lib = \"https://raw.githubusercontent.com/sergiobenrocha2/s_stuff/main/Python/Mega-Sena/megasena.py\"\n",
        "filename = \"megasena.py\"\n",
        "\n",
        "urlretrieve(url_megasena_lib, filename)"
      ]
    },
    {
      "cell_type": "code",
      "source": [
        "from megasena import mega_sena, distribution_plot\n",
        "import ipywidgets as widgets\n"
      ],
      "metadata": {
        "id": "006PlHzU15DY"
      },
      "execution_count": 218,
      "outputs": []
    },
    {
      "cell_type": "code",
      "source": [
        "mega_sena_out = widgets.Output()\n",
        "# mega_sena_out.layout\n",
        "\n",
        "def print_mega_numbers(*args):\n",
        "  with mega_sena_out:\n",
        "    mega_sena_out.clear_output()\n",
        "    # print('Aperte o botão acima p/ gerar novos números.\\n')\n",
        "    # print(type(dropdown_qnum.value))\n",
        "    for i in range(3):\n",
        "      print(f'\\nSeu {i + 1}º jogo: {mega_sena(int(dropdown_qnum.value))}')\n",
        "\n",
        "dropdown_qnum = widgets.Dropdown(\n",
        "  options=['6', '7', '8', '9', '10', '11', '12', '13', '14', '15'],\n",
        "  value='6',\n",
        "  description='Quantidade de Números: ',\n",
        "  layout={'width': 'max-content'},  # 'initial'\n",
        "  style={'description_width': 'initial'},\n",
        "  disabled=False\n",
        ")\n",
        "\n",
        "button = widgets.Button(\n",
        "    description='Gerar números',\n",
        "    button_style='success',\n",
        "    # tooltip='',\n",
        "    icon='check',\n",
        "    disabled=False\n",
        ")\n",
        "\n",
        "button.on_click(print_mega_numbers)\n",
        "\n",
        "items = [dropdown_qnum, button]\n"
      ],
      "metadata": {
        "id": "fTWy6Q9O_S-R"
      },
      "execution_count": 219,
      "outputs": []
    },
    {
      "cell_type": "code",
      "source": [
        " # Testando a distribuição dos números aleatórios gerados\n",
        "\n",
        " # distribution_plot(q_num=6, n_sorteios=100000)"
      ],
      "metadata": {
        "id": "72WqjIiE2ILF"
      },
      "execution_count": 220,
      "outputs": []
    },
    {
      "cell_type": "markdown",
      "source": [
        "### **Gere os números abaixo**"
      ],
      "metadata": {
        "id": "DcgALhuvMiO3"
      }
    },
    {
      "cell_type": "code",
      "source": [
        "widgets.HBox(items)"
      ],
      "metadata": {
        "id": "D-rkcL3UE5pb",
        "outputId": "a0cd312e-cce1-45dd-e99c-d26f5465caa3",
        "colab": {
          "base_uri": "https://localhost:8080/",
          "height": 49,
          "referenced_widgets": [
            "15cad7d7c4d14214993f25d44f117ff4",
            "5643ca2740c24e4ea7530ed6532692c5",
            "c8ef30e7d89c48f39111bd19a9427540",
            "29d04635ad11487cb7544deeb2758638",
            "2ff3c33e2c8d402e9986ca9fa13f9674",
            "5a11081e298a46ff8b35930369f1ce8b",
            "4180bb5a92974f1aa73e217af3c83238",
            "92bf470d0b72410f9c55f14e82828336"
          ]
        }
      },
      "execution_count": 221,
      "outputs": [
        {
          "output_type": "display_data",
          "data": {
            "text/plain": [
              "HBox(children=(Dropdown(description='Quantidade de Números: ', layout=Layout(width='max-content'), options=('6…"
            ],
            "application/vnd.jupyter.widget-view+json": {
              "version_major": 2,
              "version_minor": 0,
              "model_id": "15cad7d7c4d14214993f25d44f117ff4"
            }
          },
          "metadata": {}
        }
      ]
    },
    {
      "cell_type": "code",
      "source": [
        "mega_sena_out"
      ],
      "metadata": {
        "id": "y_ho6Vb87ZxL",
        "outputId": "d6b8991d-dca5-438e-bcf7-fcc085096bae",
        "colab": {
          "base_uri": "https://localhost:8080/",
          "height": 128,
          "referenced_widgets": [
            "d1660a20d09f4c4da2a565d96269f38f",
            "9db41d1ad81e4db9b4d51d8d4e230948"
          ]
        }
      },
      "execution_count": 222,
      "outputs": [
        {
          "output_type": "display_data",
          "data": {
            "text/plain": [
              "Output()"
            ],
            "application/vnd.jupyter.widget-view+json": {
              "version_major": 2,
              "version_minor": 0,
              "model_id": "d1660a20d09f4c4da2a565d96269f38f"
            }
          },
          "metadata": {}
        }
      ]
    }
  ]
}